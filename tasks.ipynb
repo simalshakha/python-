{
 "cells": [
  {
   "cell_type": "code",
   "execution_count": 2,
   "metadata": {},
   "outputs": [
    {
     "data": {
      "text/plain": [
       "3"
      ]
     },
     "execution_count": 2,
     "metadata": {},
     "output_type": "execute_result"
    }
   ],
   "source": [
    "list=[]\n",
    "list.append(0)\n",
    "list.append(3)\n",
    "list.append(0)\n",
    "list.append(3)\n",
    "list.pop()\n"
   ]
  },
  {
   "cell_type": "code",
   "execution_count": 3,
   "metadata": {},
   "outputs": [
    {
     "data": {
      "text/plain": [
       "[8, 4, 0, 4, 8]"
      ]
     },
     "execution_count": 3,
     "metadata": {},
     "output_type": "execute_result"
    }
   ],
   "source": [
    "list= [-4, -2, 0, 2, 4]\n",
    "d=[]\n",
    "p=[]\n",
    "\n",
    "for e in list:\n",
    "    \n",
    "    e=2*e\n",
    "    d.append(abs(e))\n",
    "    if e>=0:\n",
    "        p.append(e)\n",
    "    \n",
    "d"
   ]
  },
  {
   "cell_type": "code",
   "execution_count": 4,
   "metadata": {},
   "outputs": [
    {
     "data": {
      "text/plain": [
       "['banana', 'apple', 'carrot']"
      ]
     },
     "execution_count": 4,
     "metadata": {},
     "output_type": "execute_result"
    }
   ],
   "source": [
    "list=['  banana    ', 'apple      ', '      carrot']\n",
    "d=[]\n",
    "for e in list:\n",
    "\n",
    "    d.append(e.strip())\n",
    "d"
   ]
  },
  {
   "cell_type": "markdown",
   "metadata": {},
   "source": [
    "1.\tGetting summary\n",
    "a.\tGet an overview of the dataset including data types, missing values, and summary statistics (mean, median, min, max, etc.) for numeric columns. \n",
    "\n"
   ]
  },
  {
   "cell_type": "code",
   "execution_count": 5,
   "metadata": {},
   "outputs": [],
   "source": [
    "import pandas as pd\n",
    "df=pd.read_csv('Retail Sales Dataset_exported.csv')"
   ]
  },
  {
   "cell_type": "code",
   "execution_count": 6,
   "metadata": {},
   "outputs": [
    {
     "data": {
      "text/html": [
       "<div>\n",
       "<style scoped>\n",
       "    .dataframe tbody tr th:only-of-type {\n",
       "        vertical-align: middle;\n",
       "    }\n",
       "\n",
       "    .dataframe tbody tr th {\n",
       "        vertical-align: top;\n",
       "    }\n",
       "\n",
       "    .dataframe thead th {\n",
       "        text-align: right;\n",
       "    }\n",
       "</style>\n",
       "<table border=\"1\" class=\"dataframe\">\n",
       "  <thead>\n",
       "    <tr style=\"text-align: right;\">\n",
       "      <th></th>\n",
       "      <th>Transaction ID</th>\n",
       "      <th>Date</th>\n",
       "      <th>Customer ID</th>\n",
       "      <th>Gender</th>\n",
       "      <th>Age</th>\n",
       "      <th>Product Category</th>\n",
       "      <th>Quantity</th>\n",
       "      <th>Price per Unit</th>\n",
       "      <th>Total Amount</th>\n",
       "    </tr>\n",
       "  </thead>\n",
       "  <tbody>\n",
       "    <tr>\n",
       "      <th>0</th>\n",
       "      <td>1</td>\n",
       "      <td>2023-11-24 00:00:00.000</td>\n",
       "      <td>CUST001</td>\n",
       "      <td>Male</td>\n",
       "      <td>34</td>\n",
       "      <td>Beauty</td>\n",
       "      <td>3.0</td>\n",
       "      <td>50.0</td>\n",
       "      <td>150.0</td>\n",
       "    </tr>\n",
       "    <tr>\n",
       "      <th>1</th>\n",
       "      <td>2</td>\n",
       "      <td>2023-02-27 00:00:00.000</td>\n",
       "      <td>CUST002</td>\n",
       "      <td>Female</td>\n",
       "      <td>26</td>\n",
       "      <td>Clothing</td>\n",
       "      <td>2.0</td>\n",
       "      <td>500.0</td>\n",
       "      <td>1000.0</td>\n",
       "    </tr>\n",
       "    <tr>\n",
       "      <th>2</th>\n",
       "      <td>3</td>\n",
       "      <td>2023-01-13 00:00:00.000</td>\n",
       "      <td>CUST003</td>\n",
       "      <td>Male</td>\n",
       "      <td>50</td>\n",
       "      <td>Electronics</td>\n",
       "      <td>1.0</td>\n",
       "      <td>30.0</td>\n",
       "      <td>30.0</td>\n",
       "    </tr>\n",
       "    <tr>\n",
       "      <th>3</th>\n",
       "      <td>4</td>\n",
       "      <td>2023-05-21 00:00:00.000</td>\n",
       "      <td>CUST004</td>\n",
       "      <td>Male</td>\n",
       "      <td>37</td>\n",
       "      <td>Clothing</td>\n",
       "      <td>1.0</td>\n",
       "      <td>500.0</td>\n",
       "      <td>500.0</td>\n",
       "    </tr>\n",
       "    <tr>\n",
       "      <th>4</th>\n",
       "      <td>5</td>\n",
       "      <td>2023-05-06 00:00:00.000</td>\n",
       "      <td>CUST005</td>\n",
       "      <td>Male</td>\n",
       "      <td>30</td>\n",
       "      <td>Beauty</td>\n",
       "      <td>2.0</td>\n",
       "      <td>50.0</td>\n",
       "      <td>100.0</td>\n",
       "    </tr>\n",
       "  </tbody>\n",
       "</table>\n",
       "</div>"
      ],
      "text/plain": [
       "   Transaction ID                     Date Customer ID  Gender  Age  \\\n",
       "0               1  2023-11-24 00:00:00.000     CUST001    Male   34   \n",
       "1               2  2023-02-27 00:00:00.000     CUST002  Female   26   \n",
       "2               3  2023-01-13 00:00:00.000     CUST003    Male   50   \n",
       "3               4  2023-05-21 00:00:00.000     CUST004    Male   37   \n",
       "4               5  2023-05-06 00:00:00.000     CUST005    Male   30   \n",
       "\n",
       "  Product Category  Quantity  Price per Unit  Total Amount  \n",
       "0           Beauty       3.0            50.0         150.0  \n",
       "1         Clothing       2.0           500.0        1000.0  \n",
       "2      Electronics       1.0            30.0          30.0  \n",
       "3         Clothing       1.0           500.0         500.0  \n",
       "4           Beauty       2.0            50.0         100.0  "
      ]
     },
     "execution_count": 6,
     "metadata": {},
     "output_type": "execute_result"
    }
   ],
   "source": [
    "df.head()"
   ]
  },
  {
   "cell_type": "code",
   "execution_count": 7,
   "metadata": {},
   "outputs": [
    {
     "data": {
      "text/html": [
       "<div>\n",
       "<style scoped>\n",
       "    .dataframe tbody tr th:only-of-type {\n",
       "        vertical-align: middle;\n",
       "    }\n",
       "\n",
       "    .dataframe tbody tr th {\n",
       "        vertical-align: top;\n",
       "    }\n",
       "\n",
       "    .dataframe thead th {\n",
       "        text-align: right;\n",
       "    }\n",
       "</style>\n",
       "<table border=\"1\" class=\"dataframe\">\n",
       "  <thead>\n",
       "    <tr style=\"text-align: right;\">\n",
       "      <th></th>\n",
       "      <th>Transaction ID</th>\n",
       "      <th>Age</th>\n",
       "      <th>Quantity</th>\n",
       "      <th>Price per Unit</th>\n",
       "      <th>Total Amount</th>\n",
       "    </tr>\n",
       "  </thead>\n",
       "  <tbody>\n",
       "    <tr>\n",
       "      <th>count</th>\n",
       "      <td>1013.000000</td>\n",
       "      <td>1013.000000</td>\n",
       "      <td>1005.000000</td>\n",
       "      <td>1000.000000</td>\n",
       "      <td>1005.000000</td>\n",
       "    </tr>\n",
       "    <tr>\n",
       "      <th>mean</th>\n",
       "      <td>507.013820</td>\n",
       "      <td>41.373149</td>\n",
       "      <td>2.519403</td>\n",
       "      <td>179.330000</td>\n",
       "      <td>457.910448</td>\n",
       "    </tr>\n",
       "    <tr>\n",
       "      <th>std</th>\n",
       "      <td>292.595854</td>\n",
       "      <td>13.699591</td>\n",
       "      <td>1.132142</td>\n",
       "      <td>189.938748</td>\n",
       "      <td>563.592597</td>\n",
       "    </tr>\n",
       "    <tr>\n",
       "      <th>min</th>\n",
       "      <td>1.000000</td>\n",
       "      <td>18.000000</td>\n",
       "      <td>1.000000</td>\n",
       "      <td>25.000000</td>\n",
       "      <td>25.000000</td>\n",
       "    </tr>\n",
       "    <tr>\n",
       "      <th>25%</th>\n",
       "      <td>254.000000</td>\n",
       "      <td>29.000000</td>\n",
       "      <td>1.000000</td>\n",
       "      <td>30.000000</td>\n",
       "      <td>60.000000</td>\n",
       "    </tr>\n",
       "    <tr>\n",
       "      <th>50%</th>\n",
       "      <td>507.000000</td>\n",
       "      <td>42.000000</td>\n",
       "      <td>3.000000</td>\n",
       "      <td>50.000000</td>\n",
       "      <td>120.000000</td>\n",
       "    </tr>\n",
       "    <tr>\n",
       "      <th>75%</th>\n",
       "      <td>760.000000</td>\n",
       "      <td>53.000000</td>\n",
       "      <td>4.000000</td>\n",
       "      <td>300.000000</td>\n",
       "      <td>900.000000</td>\n",
       "    </tr>\n",
       "    <tr>\n",
       "      <th>max</th>\n",
       "      <td>1014.000000</td>\n",
       "      <td>64.000000</td>\n",
       "      <td>4.000000</td>\n",
       "      <td>500.000000</td>\n",
       "      <td>2000.000000</td>\n",
       "    </tr>\n",
       "  </tbody>\n",
       "</table>\n",
       "</div>"
      ],
      "text/plain": [
       "       Transaction ID          Age     Quantity  Price per Unit  Total Amount\n",
       "count     1013.000000  1013.000000  1005.000000     1000.000000   1005.000000\n",
       "mean       507.013820    41.373149     2.519403      179.330000    457.910448\n",
       "std        292.595854    13.699591     1.132142      189.938748    563.592597\n",
       "min          1.000000    18.000000     1.000000       25.000000     25.000000\n",
       "25%        254.000000    29.000000     1.000000       30.000000     60.000000\n",
       "50%        507.000000    42.000000     3.000000       50.000000    120.000000\n",
       "75%        760.000000    53.000000     4.000000      300.000000    900.000000\n",
       "max       1014.000000    64.000000     4.000000      500.000000   2000.000000"
      ]
     },
     "execution_count": 7,
     "metadata": {},
     "output_type": "execute_result"
    }
   ],
   "source": [
    "df.describe()"
   ]
  },
  {
   "cell_type": "code",
   "execution_count": 8,
   "metadata": {},
   "outputs": [
    {
     "name": "stdout",
     "output_type": "stream",
     "text": [
      "<class 'pandas.core.frame.DataFrame'>\n",
      "RangeIndex: 1013 entries, 0 to 1012\n",
      "Data columns (total 9 columns):\n",
      " #   Column            Non-Null Count  Dtype  \n",
      "---  ------            --------------  -----  \n",
      " 0   Transaction ID    1013 non-null   int64  \n",
      " 1   Date              1013 non-null   object \n",
      " 2   Customer ID       1009 non-null   object \n",
      " 3   Gender            1013 non-null   object \n",
      " 4   Age               1013 non-null   int64  \n",
      " 5   Product Category  1011 non-null   object \n",
      " 6   Quantity          1005 non-null   float64\n",
      " 7   Price per Unit    1000 non-null   float64\n",
      " 8   Total Amount      1005 non-null   float64\n",
      "dtypes: float64(3), int64(2), object(4)\n",
      "memory usage: 71.4+ KB\n"
     ]
    }
   ],
   "source": [
    "df.info()"
   ]
  },
  {
   "cell_type": "code",
   "execution_count": 9,
   "metadata": {},
   "outputs": [
    {
     "data": {
      "text/plain": [
       "Transaction ID       0\n",
       "Date                 0\n",
       "Customer ID          4\n",
       "Gender               0\n",
       "Age                  0\n",
       "Product Category     2\n",
       "Quantity             8\n",
       "Price per Unit      13\n",
       "Total Amount         8\n",
       "dtype: int64"
      ]
     },
     "execution_count": 9,
     "metadata": {},
     "output_type": "execute_result"
    }
   ],
   "source": [
    "df.isnull().sum()"
   ]
  },
  {
   "cell_type": "code",
   "execution_count": 10,
   "metadata": {},
   "outputs": [
    {
     "name": "stdout",
     "output_type": "stream",
     "text": [
      "Help on _LocIndexer in module pandas.core.indexing object:\n",
      "\n",
      "class _LocIndexer(_LocationIndexer)\n",
      " |  Access a group of rows and columns by label(s) or a boolean array.\n",
      " |\n",
      " |  ``.loc[]`` is primarily label based, but may also be used with a\n",
      " |  boolean array.\n",
      " |\n",
      " |  Allowed inputs are:\n",
      " |\n",
      " |  - A single label, e.g. ``5`` or ``'a'``, (note that ``5`` is\n",
      " |    interpreted as a *label* of the index, and **never** as an\n",
      " |    integer position along the index).\n",
      " |  - A list or array of labels, e.g. ``['a', 'b', 'c']``.\n",
      " |  - A slice object with labels, e.g. ``'a':'f'``.\n",
      " |\n",
      " |    .. warning:: Note that contrary to usual python slices, **both** the\n",
      " |        start and the stop are included\n",
      " |\n",
      " |  - A boolean array of the same length as the axis being sliced,\n",
      " |    e.g. ``[True, False, True]``.\n",
      " |  - An alignable boolean Series. The index of the key will be aligned before\n",
      " |    masking.\n",
      " |  - An alignable Index. The Index of the returned selection will be the input.\n",
      " |  - A ``callable`` function with one argument (the calling Series or\n",
      " |    DataFrame) and that returns valid output for indexing (one of the above)\n",
      " |\n",
      " |  See more at :ref:`Selection by Label <indexing.label>`.\n",
      " |\n",
      " |  Raises\n",
      " |  ------\n",
      " |  KeyError\n",
      " |      If any items are not found.\n",
      " |  IndexingError\n",
      " |      If an indexed key is passed and its index is unalignable to the frame index.\n",
      " |\n",
      " |  See Also\n",
      " |  --------\n",
      " |  DataFrame.at : Access a single value for a row/column label pair.\n",
      " |  DataFrame.iloc : Access group of rows and columns by integer position(s).\n",
      " |  DataFrame.xs : Returns a cross-section (row(s) or column(s)) from the\n",
      " |                 Series/DataFrame.\n",
      " |  Series.loc : Access group of values using labels.\n",
      " |\n",
      " |  Examples\n",
      " |  --------\n",
      " |  **Getting values**\n",
      " |\n",
      " |  >>> df = pd.DataFrame([[1, 2], [4, 5], [7, 8]],\n",
      " |  ...                   index=['cobra', 'viper', 'sidewinder'],\n",
      " |  ...                   columns=['max_speed', 'shield'])\n",
      " |  >>> df\n",
      " |              max_speed  shield\n",
      " |  cobra               1       2\n",
      " |  viper               4       5\n",
      " |  sidewinder          7       8\n",
      " |\n",
      " |  Single label. Note this returns the row as a Series.\n",
      " |\n",
      " |  >>> df.loc['viper']\n",
      " |  max_speed    4\n",
      " |  shield       5\n",
      " |  Name: viper, dtype: int64\n",
      " |\n",
      " |  List of labels. Note using ``[[]]`` returns a DataFrame.\n",
      " |\n",
      " |  >>> df.loc[['viper', 'sidewinder']]\n",
      " |              max_speed  shield\n",
      " |  viper               4       5\n",
      " |  sidewinder          7       8\n",
      " |\n",
      " |  Single label for row and column\n",
      " |\n",
      " |  >>> df.loc['cobra', 'shield']\n",
      " |  2\n",
      " |\n",
      " |  Slice with labels for row and single label for column. As mentioned\n",
      " |  above, note that both the start and stop of the slice are included.\n",
      " |\n",
      " |  >>> df.loc['cobra':'viper', 'max_speed']\n",
      " |  cobra    1\n",
      " |  viper    4\n",
      " |  Name: max_speed, dtype: int64\n",
      " |\n",
      " |  Boolean list with the same length as the row axis\n",
      " |\n",
      " |  >>> df.loc[[False, False, True]]\n",
      " |              max_speed  shield\n",
      " |  sidewinder          7       8\n",
      " |\n",
      " |  Alignable boolean Series:\n",
      " |\n",
      " |  >>> df.loc[pd.Series([False, True, False],\n",
      " |  ...                  index=['viper', 'sidewinder', 'cobra'])]\n",
      " |                       max_speed  shield\n",
      " |  sidewinder          7       8\n",
      " |\n",
      " |  Index (same behavior as ``df.reindex``)\n",
      " |\n",
      " |  >>> df.loc[pd.Index([\"cobra\", \"viper\"], name=\"foo\")]\n",
      " |         max_speed  shield\n",
      " |  foo\n",
      " |  cobra          1       2\n",
      " |  viper          4       5\n",
      " |\n",
      " |  Conditional that returns a boolean Series\n",
      " |\n",
      " |  >>> df.loc[df['shield'] > 6]\n",
      " |              max_speed  shield\n",
      " |  sidewinder          7       8\n",
      " |\n",
      " |  Conditional that returns a boolean Series with column labels specified\n",
      " |\n",
      " |  >>> df.loc[df['shield'] > 6, ['max_speed']]\n",
      " |              max_speed\n",
      " |  sidewinder          7\n",
      " |\n",
      " |  Multiple conditional using ``&`` that returns a boolean Series\n",
      " |\n",
      " |  >>> df.loc[(df['max_speed'] > 1) & (df['shield'] < 8)]\n",
      " |              max_speed  shield\n",
      " |  viper          4       5\n",
      " |\n",
      " |  Multiple conditional using ``|`` that returns a boolean Series\n",
      " |\n",
      " |  >>> df.loc[(df['max_speed'] > 4) | (df['shield'] < 5)]\n",
      " |              max_speed  shield\n",
      " |  cobra               1       2\n",
      " |  sidewinder          7       8\n",
      " |\n",
      " |  Please ensure that each condition is wrapped in parentheses ``()``.\n",
      " |  See the :ref:`user guide<indexing.boolean>`\n",
      " |  for more details and explanations of Boolean indexing.\n",
      " |\n",
      " |  .. note::\n",
      " |      If you find yourself using 3 or more conditionals in ``.loc[]``,\n",
      " |      consider using :ref:`advanced indexing<advanced.advanced_hierarchical>`.\n",
      " |\n",
      " |      See below for using ``.loc[]`` on MultiIndex DataFrames.\n",
      " |\n",
      " |  Callable that returns a boolean Series\n",
      " |\n",
      " |  >>> df.loc[lambda df: df['shield'] == 8]\n",
      " |              max_speed  shield\n",
      " |  sidewinder          7       8\n",
      " |\n",
      " |  **Setting values**\n",
      " |\n",
      " |  Set value for all items matching the list of labels\n",
      " |\n",
      " |  >>> df.loc[['viper', 'sidewinder'], ['shield']] = 50\n",
      " |  >>> df\n",
      " |              max_speed  shield\n",
      " |  cobra               1       2\n",
      " |  viper               4      50\n",
      " |  sidewinder          7      50\n",
      " |\n",
      " |  Set value for an entire row\n",
      " |\n",
      " |  >>> df.loc['cobra'] = 10\n",
      " |  >>> df\n",
      " |              max_speed  shield\n",
      " |  cobra              10      10\n",
      " |  viper               4      50\n",
      " |  sidewinder          7      50\n",
      " |\n",
      " |  Set value for an entire column\n",
      " |\n",
      " |  >>> df.loc[:, 'max_speed'] = 30\n",
      " |  >>> df\n",
      " |              max_speed  shield\n",
      " |  cobra              30      10\n",
      " |  viper              30      50\n",
      " |  sidewinder         30      50\n",
      " |\n",
      " |  Set value for rows matching callable condition\n",
      " |\n",
      " |  >>> df.loc[df['shield'] > 35] = 0\n",
      " |  >>> df\n",
      " |              max_speed  shield\n",
      " |  cobra              30      10\n",
      " |  viper               0       0\n",
      " |  sidewinder          0       0\n",
      " |\n",
      " |  Add value matching location\n",
      " |\n",
      " |  >>> df.loc[\"viper\", \"shield\"] += 5\n",
      " |  >>> df\n",
      " |              max_speed  shield\n",
      " |  cobra              30      10\n",
      " |  viper               0       5\n",
      " |  sidewinder          0       0\n",
      " |\n",
      " |  Setting using a ``Series`` or a ``DataFrame`` sets the values matching the\n",
      " |  index labels, not the index positions.\n",
      " |\n",
      " |  >>> shuffled_df = df.loc[[\"viper\", \"cobra\", \"sidewinder\"]]\n",
      " |  >>> df.loc[:] += shuffled_df\n",
      " |  >>> df\n",
      " |              max_speed  shield\n",
      " |  cobra              60      20\n",
      " |  viper               0      10\n",
      " |  sidewinder          0       0\n",
      " |\n",
      " |  **Getting values on a DataFrame with an index that has integer labels**\n",
      " |\n",
      " |  Another example using integers for the index\n",
      " |\n",
      " |  >>> df = pd.DataFrame([[1, 2], [4, 5], [7, 8]],\n",
      " |  ...                   index=[7, 8, 9], columns=['max_speed', 'shield'])\n",
      " |  >>> df\n",
      " |     max_speed  shield\n",
      " |  7          1       2\n",
      " |  8          4       5\n",
      " |  9          7       8\n",
      " |\n",
      " |  Slice with integer labels for rows. As mentioned above, note that both\n",
      " |  the start and stop of the slice are included.\n",
      " |\n",
      " |  >>> df.loc[7:9]\n",
      " |     max_speed  shield\n",
      " |  7          1       2\n",
      " |  8          4       5\n",
      " |  9          7       8\n",
      " |\n",
      " |  **Getting values with a MultiIndex**\n",
      " |\n",
      " |  A number of examples using a DataFrame with a MultiIndex\n",
      " |\n",
      " |  >>> tuples = [\n",
      " |  ...     ('cobra', 'mark i'), ('cobra', 'mark ii'),\n",
      " |  ...     ('sidewinder', 'mark i'), ('sidewinder', 'mark ii'),\n",
      " |  ...     ('viper', 'mark ii'), ('viper', 'mark iii')\n",
      " |  ... ]\n",
      " |  >>> index = pd.MultiIndex.from_tuples(tuples)\n",
      " |  >>> values = [[12, 2], [0, 4], [10, 20],\n",
      " |  ...           [1, 4], [7, 1], [16, 36]]\n",
      " |  >>> df = pd.DataFrame(values, columns=['max_speed', 'shield'], index=index)\n",
      " |  >>> df\n",
      " |                       max_speed  shield\n",
      " |  cobra      mark i           12       2\n",
      " |             mark ii           0       4\n",
      " |  sidewinder mark i           10      20\n",
      " |             mark ii           1       4\n",
      " |  viper      mark ii           7       1\n",
      " |             mark iii         16      36\n",
      " |\n",
      " |  Single label. Note this returns a DataFrame with a single index.\n",
      " |\n",
      " |  >>> df.loc['cobra']\n",
      " |           max_speed  shield\n",
      " |  mark i          12       2\n",
      " |  mark ii          0       4\n",
      " |\n",
      " |  Single index tuple. Note this returns a Series.\n",
      " |\n",
      " |  >>> df.loc[('cobra', 'mark ii')]\n",
      " |  max_speed    0\n",
      " |  shield       4\n",
      " |  Name: (cobra, mark ii), dtype: int64\n",
      " |\n",
      " |  Single label for row and column. Similar to passing in a tuple, this\n",
      " |  returns a Series.\n",
      " |\n",
      " |  >>> df.loc['cobra', 'mark i']\n",
      " |  max_speed    12\n",
      " |  shield        2\n",
      " |  Name: (cobra, mark i), dtype: int64\n",
      " |\n",
      " |  Single tuple. Note using ``[[]]`` returns a DataFrame.\n",
      " |\n",
      " |  >>> df.loc[[('cobra', 'mark ii')]]\n",
      " |                 max_speed  shield\n",
      " |  cobra mark ii          0       4\n",
      " |\n",
      " |  Single tuple for the index with a single label for the column\n",
      " |\n",
      " |  >>> df.loc[('cobra', 'mark i'), 'shield']\n",
      " |  2\n",
      " |\n",
      " |  Slice from index tuple to single label\n",
      " |\n",
      " |  >>> df.loc[('cobra', 'mark i'):'viper']\n",
      " |                       max_speed  shield\n",
      " |  cobra      mark i           12       2\n",
      " |             mark ii           0       4\n",
      " |  sidewinder mark i           10      20\n",
      " |             mark ii           1       4\n",
      " |  viper      mark ii           7       1\n",
      " |             mark iii         16      36\n",
      " |\n",
      " |  Slice from index tuple to index tuple\n",
      " |\n",
      " |  >>> df.loc[('cobra', 'mark i'):('viper', 'mark ii')]\n",
      " |                      max_speed  shield\n",
      " |  cobra      mark i          12       2\n",
      " |             mark ii          0       4\n",
      " |  sidewinder mark i          10      20\n",
      " |             mark ii          1       4\n",
      " |  viper      mark ii          7       1\n",
      " |\n",
      " |  Please see the :ref:`user guide<advanced.advanced_hierarchical>`\n",
      " |  for more details and explanations of advanced indexing.\n",
      " |\n",
      " |  Method resolution order:\n",
      " |      _LocIndexer\n",
      " |      _LocationIndexer\n",
      " |      pandas._libs.indexing.NDFrameIndexerBase\n",
      " |      builtins.object\n",
      " |\n",
      " |  Data and other attributes defined here:\n",
      " |\n",
      " |  __annotations__ = {'_takeable': 'bool'}\n",
      " |\n",
      " |  ----------------------------------------------------------------------\n",
      " |  Methods inherited from _LocationIndexer:\n",
      " |\n",
      " |  __call__(self, axis: 'Axis | None' = None) -> 'Self'\n",
      " |      Call self as a function.\n",
      " |\n",
      " |  __getitem__(self, key)\n",
      " |\n",
      " |  __setitem__(self, key, value) -> 'None'\n",
      " |\n",
      " |  ----------------------------------------------------------------------\n",
      " |  Data descriptors inherited from _LocationIndexer:\n",
      " |\n",
      " |  __dict__\n",
      " |      dictionary for instance variables\n",
      " |\n",
      " |  __weakref__\n",
      " |      list of weak references to the object\n",
      " |\n",
      " |  ----------------------------------------------------------------------\n",
      " |  Data and other attributes inherited from _LocationIndexer:\n",
      " |\n",
      " |  axis = None\n",
      " |\n",
      " |  ----------------------------------------------------------------------\n",
      " |  Methods inherited from pandas._libs.indexing.NDFrameIndexerBase:\n",
      " |\n",
      " |  __init__(self, /, *args, **kwargs)\n",
      " |      Initialize self.  See help(type(self)) for accurate signature.\n",
      " |\n",
      " |  __reduce__ = __reduce_cython__(...)\n",
      " |\n",
      " |  __reduce_cython__(self)\n",
      " |\n",
      " |  __setstate__ = __setstate_cython__(...)\n",
      " |\n",
      " |  __setstate_cython__(self, __pyx_state)\n",
      " |\n",
      " |  ----------------------------------------------------------------------\n",
      " |  Static methods inherited from pandas._libs.indexing.NDFrameIndexerBase:\n",
      " |\n",
      " |  __new__(*args, **kwargs) class method of pandas._libs.indexing.NDFrameIndexerBase\n",
      " |      Create and return a new object.  See help(type) for accurate signature.\n",
      " |\n",
      " |  ----------------------------------------------------------------------\n",
      " |  Data descriptors inherited from pandas._libs.indexing.NDFrameIndexerBase:\n",
      " |\n",
      " |  name\n",
      " |\n",
      " |  ndim\n",
      " |\n",
      " |  obj\n",
      "\n"
     ]
    }
   ],
   "source": [
    "# 2.\tData Cleaning\n",
    "# a.\tDrop the row whose column =  Customer_ID is Missing\n",
    "# b.\tAdd mode value to the row whose Product Category is missing\n",
    "\n",
    "\n",
    "\n",
    "\n",
    "#a\n",
    "df_cleaned = df.dropna(subset=['Customer ID'])\n",
    "help(df.loc)"
   ]
  },
  {
   "cell_type": "code",
   "execution_count": 11,
   "metadata": {},
   "outputs": [
    {
     "data": {
      "text/plain": [
       "Transaction ID       0\n",
       "Date                 0\n",
       "Customer ID          4\n",
       "Gender               0\n",
       "Age                  0\n",
       "Product Category     0\n",
       "Quantity             8\n",
       "Price per Unit      13\n",
       "Total Amount         8\n",
       "dtype: int64"
      ]
     },
     "execution_count": 11,
     "metadata": {},
     "output_type": "execute_result"
    }
   ],
   "source": [
    "\n",
    "df.loc[df['Product Category'].isnull(),'Product Category']=df['Product Category'].mode()[0]\n",
    "df.isnull().sum()"
   ]
  },
  {
   "cell_type": "code",
   "execution_count": 12,
   "metadata": {},
   "outputs": [
    {
     "data": {
      "text/plain": [
       "Transaction ID      0\n",
       "Date                0\n",
       "Customer ID         4\n",
       "Gender              0\n",
       "Age                 0\n",
       "Product Category    0\n",
       "Quantity            0\n",
       "Price per Unit      0\n",
       "Total Amount        8\n",
       "dtype: int64"
      ]
     },
     "execution_count": 12,
     "metadata": {},
     "output_type": "execute_result"
    }
   ],
   "source": [
    "# c.\tAdd values using medium on the row whose Column Quantity and price is missing\n",
    "df.loc[df['Quantity'].isnull(),'Quantity']=df['Quantity'].median()\n",
    "df.loc[df['Price per Unit'].isnull(),'Price per Unit']=df['Price per Unit'].median()\n",
    "df.isnull().sum()\n"
   ]
  },
  {
   "cell_type": "code",
   "execution_count": 13,
   "metadata": {},
   "outputs": [
    {
     "data": {
      "text/plain": [
       "Transaction ID      0\n",
       "Date                0\n",
       "Customer ID         4\n",
       "Gender              0\n",
       "Age                 0\n",
       "Product Category    0\n",
       "Quantity            0\n",
       "Price per Unit      0\n",
       "Total Amount        0\n",
       "dtype: int64"
      ]
     },
     "execution_count": 13,
     "metadata": {},
     "output_type": "execute_result"
    }
   ],
   "source": [
    "# d.\tAdd values using multiplication of column quantity and price per product if total amount column is empty\n",
    "df.loc[df['Total Amount'].isnull(),'Total Amount']=df['Quantity']*df['Price per Unit']\n",
    "df.isnull().sum()\n"
   ]
  },
  {
   "cell_type": "code",
   "execution_count": 32,
   "metadata": {},
   "outputs": [
    {
     "data": {
      "text/plain": [
       "0       2023-11-24\n",
       "1       2023-02-27\n",
       "2       2023-01-13\n",
       "3       2023-05-21\n",
       "4       2023-05-06\n",
       "           ...    \n",
       "1008    2023-10-15\n",
       "1009    2023-10-03\n",
       "1010    2023-05-15\n",
       "1011    2023-10-27\n",
       "1012    2023-08-08\n",
       "Name: Date, Length: 1013, dtype: object"
      ]
     },
     "execution_count": 32,
     "metadata": {},
     "output_type": "execute_result"
    }
   ],
   "source": [
    "\n",
    "df['Date'] = df['Date'].apply(lambda x: x[:10])\n",
    "df.Date\n"
   ]
  },
  {
   "cell_type": "markdown",
   "metadata": {},
   "source": [
    "3.\tAnalyze customer age, gender distribution, and visualize in stacked bar chart\n",
    "4.\tExplore popular product categories and average spending. \n",
    "5.\tAnalyze product categories and their popularity.\n",
    "6.\tInvestigate the relationship between quantity, price per unit, and total amount for different product categories.\n",
    "7.\tAnalyze trends over time using the date column, such as monthly or yearly sales trends.\n"
   ]
  },
  {
   "cell_type": "code",
   "execution_count": 43,
   "metadata": {},
   "outputs": [
    {
     "name": "stdout",
     "output_type": "stream",
     "text": [
      "Requirement already satisfied: matplot in c:\\users\\sshak\\appdata\\local\\programs\\python\\python312\\lib\\site-packages (0.1.9)"
     ]
    },
    {
     "name": "stderr",
     "output_type": "stream",
     "text": [
      "\n",
      "[notice] A new release of pip is available: 24.0 -> 24.1\n",
      "[notice] To update, run: python.exe -m pip install --upgrade pip\n"
     ]
    },
    {
     "name": "stdout",
     "output_type": "stream",
     "text": [
      "\n",
      "Requirement already satisfied: pyloco>=0.0.134 in c:\\users\\sshak\\appdata\\local\\programs\\python\\python312\\lib\\site-packages (from matplot) (0.0.139)\n",
      "Requirement already satisfied: matplotlib>=3.1.1 in c:\\users\\sshak\\appdata\\local\\programs\\python\\python312\\lib\\site-packages (from matplot) (3.9.0)\n",
      "Requirement already satisfied: contourpy>=1.0.1 in c:\\users\\sshak\\appdata\\local\\programs\\python\\python312\\lib\\site-packages (from matplotlib>=3.1.1->matplot) (1.2.1)\n",
      "Requirement already satisfied: cycler>=0.10 in c:\\users\\sshak\\appdata\\local\\programs\\python\\python312\\lib\\site-packages (from matplotlib>=3.1.1->matplot) (0.12.1)\n",
      "Requirement already satisfied: fonttools>=4.22.0 in c:\\users\\sshak\\appdata\\local\\programs\\python\\python312\\lib\\site-packages (from matplotlib>=3.1.1->matplot) (4.53.0)\n",
      "Requirement already satisfied: kiwisolver>=1.3.1 in c:\\users\\sshak\\appdata\\local\\programs\\python\\python312\\lib\\site-packages (from matplotlib>=3.1.1->matplot) (1.4.5)\n",
      "Requirement already satisfied: numpy>=1.23 in c:\\users\\sshak\\appdata\\local\\programs\\python\\python312\\lib\\site-packages (from matplotlib>=3.1.1->matplot) (1.26.4)\n",
      "Requirement already satisfied: packaging>=20.0 in c:\\users\\sshak\\appdata\\roaming\\python\\python312\\site-packages (from matplotlib>=3.1.1->matplot) (24.0)\n",
      "Requirement already satisfied: pillow>=8 in c:\\users\\sshak\\appdata\\local\\programs\\python\\python312\\lib\\site-packages (from matplotlib>=3.1.1->matplot) (10.3.0)\n",
      "Requirement already satisfied: pyparsing>=2.3.1 in c:\\users\\sshak\\appdata\\local\\programs\\python\\python312\\lib\\site-packages (from matplotlib>=3.1.1->matplot) (3.1.2)\n",
      "Requirement already satisfied: python-dateutil>=2.7 in c:\\users\\sshak\\appdata\\roaming\\python\\python312\\site-packages (from matplotlib>=3.1.1->matplot) (2.9.0.post0)\n",
      "Requirement already satisfied: ushlex in c:\\users\\sshak\\appdata\\local\\programs\\python\\python312\\lib\\site-packages (from pyloco>=0.0.134->matplot) (0.99.1)\n",
      "Requirement already satisfied: websocket-client in c:\\users\\sshak\\appdata\\local\\programs\\python\\python312\\lib\\site-packages (from pyloco>=0.0.134->matplot) (1.8.0)\n",
      "Requirement already satisfied: twine in c:\\users\\sshak\\appdata\\local\\programs\\python\\python312\\lib\\site-packages (from pyloco>=0.0.134->matplot) (5.1.0)\n",
      "Requirement already satisfied: typing in c:\\users\\sshak\\appdata\\local\\programs\\python\\python312\\lib\\site-packages (from pyloco>=0.0.134->matplot) (3.7.4.3)\n",
      "Requirement already satisfied: SimpleWebSocketServer in c:\\users\\sshak\\appdata\\local\\programs\\python\\python312\\lib\\site-packages (from pyloco>=0.0.134->matplot) (0.1.2)\n",
      "Requirement already satisfied: six>=1.5 in c:\\users\\sshak\\appdata\\roaming\\python\\python312\\site-packages (from python-dateutil>=2.7->matplotlib>=3.1.1->matplot) (1.16.0)\n",
      "Requirement already satisfied: pkginfo>=1.8.1 in c:\\users\\sshak\\appdata\\local\\programs\\python\\python312\\lib\\site-packages (from twine->pyloco>=0.0.134->matplot) (1.11.1)\n",
      "Requirement already satisfied: readme-renderer>=35.0 in c:\\users\\sshak\\appdata\\local\\programs\\python\\python312\\lib\\site-packages (from twine->pyloco>=0.0.134->matplot) (43.0)\n",
      "Requirement already satisfied: requests>=2.20 in c:\\users\\sshak\\appdata\\local\\programs\\python\\python312\\lib\\site-packages (from twine->pyloco>=0.0.134->matplot) (2.32.3)\n",
      "Requirement already satisfied: requests-toolbelt!=0.9.0,>=0.8.0 in c:\\users\\sshak\\appdata\\local\\programs\\python\\python312\\lib\\site-packages (from twine->pyloco>=0.0.134->matplot) (1.0.0)\n",
      "Requirement already satisfied: urllib3>=1.26.0 in c:\\users\\sshak\\appdata\\local\\programs\\python\\python312\\lib\\site-packages (from twine->pyloco>=0.0.134->matplot) (2.2.1)\n",
      "Requirement already satisfied: importlib-metadata>=3.6 in c:\\users\\sshak\\appdata\\local\\programs\\python\\python312\\lib\\site-packages (from twine->pyloco>=0.0.134->matplot) (7.2.1)\n",
      "Requirement already satisfied: keyring>=15.1 in c:\\users\\sshak\\appdata\\local\\programs\\python\\python312\\lib\\site-packages (from twine->pyloco>=0.0.134->matplot) (25.2.1)\n",
      "Requirement already satisfied: rfc3986>=1.4.0 in c:\\users\\sshak\\appdata\\local\\programs\\python\\python312\\lib\\site-packages (from twine->pyloco>=0.0.134->matplot) (2.0.0)\n",
      "Requirement already satisfied: rich>=12.0.0 in c:\\users\\sshak\\appdata\\local\\programs\\python\\python312\\lib\\site-packages (from twine->pyloco>=0.0.134->matplot) (13.7.1)\n",
      "Requirement already satisfied: zipp>=0.5 in c:\\users\\sshak\\appdata\\local\\programs\\python\\python312\\lib\\site-packages (from importlib-metadata>=3.6->twine->pyloco>=0.0.134->matplot) (3.19.2)\n",
      "Requirement already satisfied: jaraco.classes in c:\\users\\sshak\\appdata\\local\\programs\\python\\python312\\lib\\site-packages (from keyring>=15.1->twine->pyloco>=0.0.134->matplot) (3.4.0)\n",
      "Requirement already satisfied: jaraco.functools in c:\\users\\sshak\\appdata\\local\\programs\\python\\python312\\lib\\site-packages (from keyring>=15.1->twine->pyloco>=0.0.134->matplot) (4.0.1)\n",
      "Requirement already satisfied: jaraco.context in c:\\users\\sshak\\appdata\\local\\programs\\python\\python312\\lib\\site-packages (from keyring>=15.1->twine->pyloco>=0.0.134->matplot) (5.3.0)\n",
      "Requirement already satisfied: pywin32-ctypes>=0.2.0 in c:\\users\\sshak\\appdata\\local\\programs\\python\\python312\\lib\\site-packages (from keyring>=15.1->twine->pyloco>=0.0.134->matplot) (0.2.2)\n",
      "Requirement already satisfied: nh3>=0.2.14 in c:\\users\\sshak\\appdata\\local\\programs\\python\\python312\\lib\\site-packages (from readme-renderer>=35.0->twine->pyloco>=0.0.134->matplot) (0.2.17)\n",
      "Requirement already satisfied: docutils>=0.13.1 in c:\\users\\sshak\\appdata\\local\\programs\\python\\python312\\lib\\site-packages (from readme-renderer>=35.0->twine->pyloco>=0.0.134->matplot) (0.21.2)\n",
      "Requirement already satisfied: Pygments>=2.5.1 in c:\\users\\sshak\\appdata\\roaming\\python\\python312\\site-packages (from readme-renderer>=35.0->twine->pyloco>=0.0.134->matplot) (2.18.0)\n",
      "Requirement already satisfied: charset-normalizer<4,>=2 in c:\\users\\sshak\\appdata\\local\\programs\\python\\python312\\lib\\site-packages (from requests>=2.20->twine->pyloco>=0.0.134->matplot) (3.3.2)\n",
      "Requirement already satisfied: idna<4,>=2.5 in c:\\users\\sshak\\appdata\\local\\programs\\python\\python312\\lib\\site-packages (from requests>=2.20->twine->pyloco>=0.0.134->matplot) (3.7)\n",
      "Requirement already satisfied: certifi>=2017.4.17 in c:\\users\\sshak\\appdata\\local\\programs\\python\\python312\\lib\\site-packages (from requests>=2.20->twine->pyloco>=0.0.134->matplot) (2024.6.2)\n",
      "Requirement already satisfied: markdown-it-py>=2.2.0 in c:\\users\\sshak\\appdata\\local\\programs\\python\\python312\\lib\\site-packages (from rich>=12.0.0->twine->pyloco>=0.0.134->matplot) (3.0.0)\n",
      "Requirement already satisfied: mdurl~=0.1 in c:\\users\\sshak\\appdata\\local\\programs\\python\\python312\\lib\\site-packages (from markdown-it-py>=2.2.0->rich>=12.0.0->twine->pyloco>=0.0.134->matplot) (0.1.2)\n",
      "Requirement already satisfied: more-itertools in c:\\users\\sshak\\appdata\\local\\programs\\python\\python312\\lib\\site-packages (from jaraco.classes->keyring>=15.1->twine->pyloco>=0.0.134->matplot) (10.3.0)\n"
     ]
    }
   ],
   "source": [
    "!pip install matplot"
   ]
  },
  {
   "cell_type": "code",
   "execution_count": 54,
   "metadata": {},
   "outputs": [
    {
     "data": {
      "text/plain": [
       "<Axes: >"
      ]
     },
     "execution_count": 54,
     "metadata": {},
     "output_type": "execute_result"
    },
    {
     "data": {
      "image/png": "[encoded data removed]",
      "text/plain": [
       "<Figure size 640x480 with 1 Axes>"
      ]
     },
     "metadata": {},
     "output_type": "display_data"
    }
   ],
   "source": [
    "df['Age'].hist()"
   ]
  },
  {
   "cell_type": "code",
   "execution_count": 51,
   "metadata": {},
   "outputs": [
    {
     "data": {
      "text/plain": [
       "<Axes: >"
      ]
     },
     "execution_count": 51,
     "metadata": {},
     "output_type": "execute_result"
    },
    {
     "data": {
      "image/png": "[encoded data removed]",
      "text/plain": [
       "<Figure size 640x480 with 1 Axes>"
      ]
     },
     "metadata": {},
     "output_type": "display_data"
    }
   ],
   "source": [
    "df['Gender'].hist()"
   ]
  },
  {
   "cell_type": "code",
   "execution_count": 60,
   "metadata": {},
   "outputs": [
    {
     "data": {
      "text/html": [
       "<div>\n",
       "<style scoped>\n",
       "    .dataframe tbody tr th:only-of-type {\n",
       "        vertical-align: middle;\n",
       "    }\n",
       "\n",
       "    .dataframe tbody tr th {\n",
       "        vertical-align: top;\n",
       "    }\n",
       "\n",
       "    .dataframe thead th {\n",
       "        text-align: right;\n",
       "    }\n",
       "</style>\n",
       "<table border=\"1\" class=\"dataframe\">\n",
       "  <thead>\n",
       "    <tr style=\"text-align: right;\">\n",
       "      <th></th>\n",
       "      <th>Transaction ID</th>\n",
       "      <th>Date</th>\n",
       "      <th>Customer ID</th>\n",
       "      <th>Gender</th>\n",
       "      <th>Age</th>\n",
       "      <th>Product Category</th>\n",
       "      <th>Quantity</th>\n",
       "      <th>Price per Unit</th>\n",
       "      <th>Total Amount</th>\n",
       "    </tr>\n",
       "  </thead>\n",
       "  <tbody>\n",
       "    <tr>\n",
       "      <th>0</th>\n",
       "      <td>1</td>\n",
       "      <td>2023-11-24</td>\n",
       "      <td>CUST001</td>\n",
       "      <td>Male</td>\n",
       "      <td>34</td>\n",
       "      <td>Beauty</td>\n",
       "      <td>3.0</td>\n",
       "      <td>50.0</td>\n",
       "      <td>150.0</td>\n",
       "    </tr>\n",
       "    <tr>\n",
       "      <th>1</th>\n",
       "      <td>2</td>\n",
       "      <td>2023-02-27</td>\n",
       "      <td>CUST002</td>\n",
       "      <td>Female</td>\n",
       "      <td>26</td>\n",
       "      <td>Clothing</td>\n",
       "      <td>2.0</td>\n",
       "      <td>500.0</td>\n",
       "      <td>1000.0</td>\n",
       "    </tr>\n",
       "    <tr>\n",
       "      <th>2</th>\n",
       "      <td>3</td>\n",
       "      <td>2023-01-13</td>\n",
       "      <td>CUST003</td>\n",
       "      <td>Male</td>\n",
       "      <td>50</td>\n",
       "      <td>Electronics</td>\n",
       "      <td>1.0</td>\n",
       "      <td>30.0</td>\n",
       "      <td>30.0</td>\n",
       "    </tr>\n",
       "    <tr>\n",
       "      <th>3</th>\n",
       "      <td>4</td>\n",
       "      <td>2023-05-21</td>\n",
       "      <td>CUST004</td>\n",
       "      <td>Male</td>\n",
       "      <td>37</td>\n",
       "      <td>Clothing</td>\n",
       "      <td>1.0</td>\n",
       "      <td>500.0</td>\n",
       "      <td>500.0</td>\n",
       "    </tr>\n",
       "    <tr>\n",
       "      <th>4</th>\n",
       "      <td>5</td>\n",
       "      <td>2023-05-06</td>\n",
       "      <td>CUST005</td>\n",
       "      <td>Male</td>\n",
       "      <td>30</td>\n",
       "      <td>Beauty</td>\n",
       "      <td>2.0</td>\n",
       "      <td>50.0</td>\n",
       "      <td>100.0</td>\n",
       "    </tr>\n",
       "  </tbody>\n",
       "</table>\n",
       "</div>"
      ],
      "text/plain": [
       "   Transaction ID        Date Customer ID  Gender  Age Product Category  \\\n",
       "0               1  2023-11-24     CUST001    Male   34           Beauty   \n",
       "1               2  2023-02-27     CUST002  Female   26         Clothing   \n",
       "2               3  2023-01-13     CUST003    Male   50      Electronics   \n",
       "3               4  2023-05-21     CUST004    Male   37         Clothing   \n",
       "4               5  2023-05-06     CUST005    Male   30           Beauty   \n",
       "\n",
       "   Quantity  Price per Unit  Total Amount  \n",
       "0       3.0            50.0         150.0  \n",
       "1       2.0           500.0        1000.0  \n",
       "2       1.0            30.0          30.0  \n",
       "3       1.0           500.0         500.0  \n",
       "4       2.0            50.0         100.0  "
      ]
     },
     "execution_count": 60,
     "metadata": {},
     "output_type": "execute_result"
    }
   ],
   "source": [
    "df.head()\n"
   ]
  },
  {
   "cell_type": "code",
   "execution_count": 76,
   "metadata": {},
   "outputs": [
    {
     "data": {
      "text/plain": [
       "Product Category\n",
       "Beauty         464.935275\n",
       "Clothing       446.946779\n",
       "Electronics    461.484150\n",
       "Name: Total Amount, dtype: float64"
      ]
     },
     "execution_count": 76,
     "metadata": {},
     "output_type": "execute_result"
    }
   ],
   "source": [
    "df.groupby('Product Category')['Total Amount'].mean()"
   ]
  },
  {
   "cell_type": "code",
   "execution_count": 81,
   "metadata": {},
   "outputs": [
    {
     "data": {
      "text/plain": [
       "<Axes: >"
      ]
     },
     "execution_count": 81,
     "metadata": {},
     "output_type": "execute_result"
    },
    {
     "data": {
      "image/png": "[encoded data removed]",
      "text/plain": [
       "<Figure size 640x480 with 1 Axes>"
      ]
     },
     "metadata": {},
     "output_type": "display_data"
    }
   ],
   "source": [
    "#5.\tAnalyze product categories and their popularity.#\n",
    "df['Product Category'].value_counts().hist()"
   ]
  },
  {
   "cell_type": "code",
   "execution_count": 87,
   "metadata": {},
   "outputs": [
    {
     "data": {
      "text/plain": [
       "<pandas.core.groupby.generic.SeriesGroupBy object at 0x000002E26E740C20>"
      ]
     },
     "execution_count": 87,
     "metadata": {},
     "output_type": "execute_result"
    }
   ],
   "source": [
    "df.groupby('Date')['Product Category']"
   ]
  },
  {
   "cell_type": "code",
   "execution_count": 91,
   "metadata": {},
   "outputs": [
    {
     "ename": "NameError",
     "evalue": "name 'plt' is not defined",
     "output_type": "error",
     "traceback": [
      "\u001b[1;31m---------------------------------------------------------------------------\u001b[0m",
      "\u001b[1;31mNameError\u001b[0m                                 Traceback (most recent call last)",
      "Cell \u001b[1;32mIn[91], line 1\u001b[0m\n\u001b[1;32m----> 1\u001b[0m \u001b[43mplt\u001b[49m\u001b[38;5;241m.\u001b[39mfigure(figsize\u001b[38;5;241m=\u001b[39m(\u001b[38;5;241m10\u001b[39m, \u001b[38;5;241m6\u001b[39m))\n\u001b[0;32m      2\u001b[0m sns\u001b[38;5;241m.\u001b[39mscatterplot(x\u001b[38;5;241m=\u001b[39m\u001b[38;5;124m'\u001b[39m\u001b[38;5;124mQuantity\u001b[39m\u001b[38;5;124m'\u001b[39m, y\u001b[38;5;241m=\u001b[39m\u001b[38;5;124m'\u001b[39m\u001b[38;5;124mTotal Amount\u001b[39m\u001b[38;5;124m'\u001b[39m, hue\u001b[38;5;241m=\u001b[39m\u001b[38;5;124m'\u001b[39m\u001b[38;5;124mProduct Category\u001b[39m\u001b[38;5;124m'\u001b[39m, size\u001b[38;5;241m=\u001b[39m\u001b[38;5;124m'\u001b[39m\u001b[38;5;124mPrice per Unit\u001b[39m\u001b[38;5;124m'\u001b[39m, sizes\u001b[38;5;241m=\u001b[39m(\u001b[38;5;241m50\u001b[39m, \u001b[38;5;241m200\u001b[39m), data\u001b[38;5;241m=\u001b[39mdf, palette\u001b[38;5;241m=\u001b[39m\u001b[38;5;124m'\u001b[39m\u001b[38;5;124mSet2\u001b[39m\u001b[38;5;124m'\u001b[39m)\n\u001b[0;32m      3\u001b[0m plt\u001b[38;5;241m.\u001b[39mtitle(\u001b[38;5;124m'\u001b[39m\u001b[38;5;124mRelationship between Quantity, Total Amount, and Price per Unit\u001b[39m\u001b[38;5;124m'\u001b[39m)\n",
      "\u001b[1;31mNameError\u001b[0m: name 'plt' is not defined"
     ]
    }
   ],
   "source": []
  },
  {
   "cell_type": "code",
   "execution_count": null,
   "metadata": {},
   "outputs": [],
   "source": []
  }
 ],
 "metadata": {
  "kernelspec": {
   "display_name": "Python 3",
   "language": "python",
   "name": "python3"
  },
  "language_info": {
   "codemirror_mode": {
    "name": "ipython",
    "version": 3
   },
   "file_extension": ".py",
   "mimetype": "text/x-python",
   "name": "python",
   "nbconvert_exporter": "python",
   "pygments_lexer": "ipython3",
   "version": "3.12.3"
  }
 },
 "nbformat": 4,
 "nbformat_minor": 2
}
