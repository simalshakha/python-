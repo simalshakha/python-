{
 "cells": [
  {
   "cell_type": "code",
   "execution_count": 1,
   "metadata": {},
   "outputs": [],
   "source": [
    "import cv2\n",
    "import numpy as np\n",
    "import os "
   ]
  },
  {
   "cell_type": "code",
   "execution_count": 2,
   "metadata": {},
   "outputs": [],
   "source": [
    "img =cv2.imread(\"image copy 2.png\",0)# to gray scale\n",
    "cv2.imshow(\"gradient\",img)\n",
    "cv2.waitKey(0)\n",
    "cv2.destroyAllWindows()\n"
   ]
  },
  {
   "cell_type": "code",
   "execution_count": 4,
   "metadata": {},
   "outputs": [],
   "source": [
    "ret,threshing=cv2.threshold(img,150,255,cv2.THRESH_BINARY)\n",
    "ret,tRUNK=cv2.threshold(img,150,255,cv2.THRESH_TRUNC)\n",
    "ret,inv=cv2.threshold(img,150,255,cv2.THRESH_BINARY_INV)\n",
    "cv2.imshow(\"gradient\",threshing)\n",
    "ret,tozer=cv2.threshold(img,150,255,cv2.THRESH_TOZERO)\n",
    "ret,tozerinv=cv2.threshold(img,150,255,cv2.THRESH_TOZERO_INV+cv2.THRESH_OTSU)\n",
    "\n",
    "\n",
    "cv2.imshow(\"gradient\",threshing)\n",
    "cv2.imshow(\"TOZERO\",tozer)\n",
    "cv2.imshow(\"TOZEROinv\",tozerinv)\n",
    "cv2.imshow(\"image\",img)\n",
    "cv2.imshow(\"invert\",inv)\n",
    "cv2.imshow(\"trunk\",tRUNK)\n",
    "cv2.waitKey(0)\n",
    "cv2.destroyAllWindows()"
   ]
  },
  {
   "cell_type": "code",
   "execution_count": null,
   "metadata": {},
   "outputs": [],
   "source": []
  }
 ],
 "metadata": {
  "kernelspec": {
   "display_name": "Python 3",
   "language": "python",
   "name": "python3"
  },
  "language_info": {
   "codemirror_mode": {
    "name": "ipython",
    "version": 3
   },
   "file_extension": ".py",
   "mimetype": "text/x-python",
   "name": "python",
   "nbconvert_exporter": "python",
   "pygments_lexer": "ipython3",
   "version": "3.12.3"
  }
 },
 "nbformat": 4,
 "nbformat_minor": 2
}
