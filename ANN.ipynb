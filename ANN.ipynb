{
 "cells": [
  {
   "cell_type": "code",
   "execution_count": 1,
   "metadata": {},
   "outputs": [],
   "source": [
    "import numpy as np\n",
    "import matplotlib.pyplot as plt\n",
    "%matplotlib inline"
   ]
  },
  {
   "cell_type": "code",
   "execution_count": 2,
   "metadata": {},
   "outputs": [],
   "source": [
    "import torch\n",
    "import torch.nn as nn\n",
    "from torch.utils.data import DataLoader\n",
    "from torchvision import datasets\n",
    "from torchvision.transforms import transforms,ToTensor\n",
    "from tqdm import tqdm"
   ]
  },
  {
   "cell_type": "code",
   "execution_count": 3,
   "metadata": {},
   "outputs": [],
   "source": [
    "train_mnist = datasets.MNIST(\n",
    "    'mnist',\n",
    "    train= True,\n",
    "    download= True,\n",
    "    transform= ToTensor()\n",
    ")\n",
    "\n",
    "val_mnist = datasets.MNIST(\n",
    "    'mnist',\n",
    "    train= False,\n",
    "    download= True,\n",
    "    transform= ToTensor()\n",
    ")"
   ]
  },
  {
   "cell_type": "code",
   "execution_count": 4,
   "metadata": {},
   "outputs": [],
   "source": [
    "image , labels = train_mnist[2]"
   ]
  },
  {
   "cell_type": "code",
   "execution_count": 5,
   "metadata": {},
   "outputs": [
    {
     "name": "stdout",
     "output_type": "stream",
     "text": [
      "4\n"
     ]
    },
    {
     "data": {
      "image/png": "[encoded data removed]",
      "text/plain": [
       "<Figure size 640x480 with 1 Axes>"
      ]
     },
     "metadata": {},
     "output_type": "display_data"
    }
   ],
   "source": [
    "plt.imshow(image.squeeze())\n",
    "print(labels)"
   ]
  },
  {
   "cell_type": "code",
   "execution_count": 6,
   "metadata": {},
   "outputs": [],
   "source": [
    "batch_size = 64\n",
    "train_dataloader = DataLoader(train_mnist,batch_size,shuffle=True)\n",
    "val_dataloader = DataLoader(val_mnist,batch_size,shuffle=True)"
   ]
  },
  {
   "cell_type": "code",
   "execution_count": 7,
   "metadata": {},
   "outputs": [
    {
     "name": "stdout",
     "output_type": "stream",
     "text": [
      "torch.Size([64, 1, 28, 28])\n",
      "tensor([4, 7, 8, 8, 2, 7, 2, 2, 1, 5, 7, 0, 5, 7, 6, 0, 8, 1, 6, 8, 6, 3, 8, 0,\n",
      "        1, 2, 0, 5, 7, 4, 7, 2, 4, 3, 4, 7, 4, 2, 0, 6, 0, 1, 4, 4, 9, 7, 9, 8,\n",
      "        0, 0, 5, 7, 0, 7, 2, 1, 7, 1, 9, 1, 1, 8, 7, 9])\n",
      "torch.Size([64])\n"
     ]
    }
   ],
   "source": [
    "images ,labels = next(iter(train_dataloader))\n",
    "print(images.shape)\n",
    "print(labels)\n",
    "print(labels.shape)"
   ]
  },
  {
   "cell_type": "code",
   "execution_count": 8,
   "metadata": {},
   "outputs": [],
   "source": [
    "class ANN(nn.Module):\n",
    "    def __init__(self)->None:\n",
    "        super().__init__()\n",
    "        self.fcn=nn.Sequential(\n",
    "            nn.Flatten(),\n",
    "\n",
    "            nn.Linear(28*28,512),\n",
    "            nn.ReLU(inplace=True),\n",
    "\n",
    "            nn.Linear(512,512),\n",
    "            nn.ReLU(inplace=True),\n",
    "\n",
    "            nn.Linear(512,512),\n",
    "            nn.Softmax()\n",
    "\n",
    "        )\n",
    "        \n",
    "    def forward(self,x):\n",
    "        return self.fcn(x)"
   ]
  },
  {
   "cell_type": "code",
   "execution_count": 9,
   "metadata": {},
   "outputs": [],
   "source": [
    "def train(\n",
    "        model, \n",
    "        criteria,\n",
    "        optimizer,\n",
    "        train_dataloader,\n",
    "        val_dataloader,\n",
    "        epochs,\n",
    "        device,\n",
    "        val_iteration=10\n",
    "        ):\n",
    "    train_loss = []\n",
    "    train_accuracy = []\n",
    "    val_loss=[]\n",
    "    val_accuracy=[]\n",
    "\n",
    "    for epoch in range(1,epochs+1):\n",
    "        #train\n",
    "        epoch_train_loss=0\n",
    "        epoch_train_correct = 0\n",
    "        train_step=0\n",
    "        model.train()\n",
    "        for batch_image,batch_labels in tqdm(train_dataloader):\n",
    "            batch_image=batch_image.to(device)\n",
    "            batch_labels=batch_labels.to(device)\n",
    "\n",
    "\n",
    "            optimizer.zero_grad()\n",
    "            #forward pass\n",
    "            result=model(batch_image)\n",
    "            loss= criteria(result,batch_labels)\n",
    "            _, preds = torch.max(result, 1)\n",
    "            epoch_train_correct += (preds == batch_labels).sum().item()\n",
    "            \n",
    "            loss.backward()\n",
    "            optimizer.step()\n",
    "            train_step+=1\n",
    "            epoch_train_loss +=loss.item()\n",
    "\n",
    "        epoch_train_loss /= train_step\n",
    "        train_loss.append(epoch_train_loss)\n",
    "        epoch_train_accuracy=epoch_train_correct/len(train_dataloader.dataset)\n",
    "        train_accuracy.append(epoch_train_accuracy)\n",
    "        print(f'Epoch {epoch} of {epochs}: Loss={epoch_train_loss:.4f}')\n",
    "        print(f'Epoch {epoch} of {epochs}: accuracy={epoch_train_accuracy:.4f}')\n",
    "\n",
    "            # Validation\n",
    "        \n",
    "        model.eval()\n",
    "        epoch_val_loss=0\n",
    "        epoch_val_correct = 0\n",
    "        val_step = 0\n",
    "        with torch.no_grad():\n",
    "            for batch_images, batch_labels in tqdm(val_dataloader):\n",
    "                batch_images=batch_images.to(device)\n",
    "                batch_labels=batch_labels.to(device)\n",
    "                ##Validation only have forward pass no backward pass\n",
    "                ##forward pass\n",
    "                results=model(batch_images)\n",
    "                loss=criteria(results,batch_labels)\n",
    "                epoch_val_loss+=loss.item()\n",
    "                val_step+=1\n",
    "                epoch_val_correct+=(results.argmax(1)==batch_labels).type(torch.float32).sum().item()\n",
    "                \n",
    "            epoch_val_loss /= val_step\n",
    "            val_loss.append(epoch_val_loss)\n",
    "            epoch_val_accuracy=epoch_val_correct/len(val_dataloader.dataset)\n",
    "            val_accuracy.append(epoch_val_accuracy)\n",
    "            print(f'Epoch {epoch} of {epochs}: Val Loss={epoch_val_loss:.4f}')\n",
    "            print(f'Epoch {epoch} of {epochs}: Val Accuracy={epoch_val_accuracy:.4f}')\n",
    "    return train_loss,train_accuracy, val_loss, val_accuracy\n",
    "\n"
   ]
  },
  {
   "cell_type": "code",
   "execution_count": 18,
   "metadata": {},
   "outputs": [
    {
     "name": "stdout",
     "output_type": "stream",
     "text": [
      "cuda\n"
     ]
    }
   ],
   "source": [
    "device='cuda' if torch.cuda.is_available() else 'cpu'\n",
    "print(device)"
   ]
  },
  {
   "cell_type": "code",
   "execution_count": 11,
   "metadata": {},
   "outputs": [],
   "source": [
    "model=ANN()\n",
    "model=model.to(device)\n",
    "epoch=10\n",
    "criteria=nn.CrossEntropyLoss()\n",
    "optimizer=torch.optim.Adam(model.parameters(), lr=0.001)\n"
   ]
  },
  {
   "cell_type": "code",
   "execution_count": null,
   "metadata": {},
   "outputs": [],
   "source": []
  },
  {
   "cell_type": "code",
   "execution_count": 12,
   "metadata": {},
   "outputs": [
    {
     "name": "stderr",
     "output_type": "stream",
     "text": [
      "  0%|          | 0/938 [00:00<?, ?it/s]c:\\Users\\sshak\\AppData\\Local\\Programs\\Python\\Python312\\Lib\\site-packages\\torch\\nn\\modules\\module.py:1532: UserWarning: Implicit dimension choice for softmax has been deprecated. Change the call to include dim=X as an argument.\n",
      "  return self._call_impl(*args, **kwargs)\n",
      "100%|██████████| 938/938 [00:08<00:00, 108.76it/s]\n"
     ]
    },
    {
     "name": "stdout",
     "output_type": "stream",
     "text": [
      "Epoch 1 of 10: Loss=5.5239\n",
      "Epoch 1 of 10: accuracy=0.7237\n"
     ]
    },
    {
     "name": "stderr",
     "output_type": "stream",
     "text": [
      "100%|██████████| 157/157 [00:01<00:00, 149.67it/s]\n"
     ]
    },
    {
     "name": "stdout",
     "output_type": "stream",
     "text": [
      "Epoch 1 of 10: Val Loss=5.3976\n",
      "Epoch 1 of 10: Val Accuracy=0.8466\n"
     ]
    },
    {
     "name": "stderr",
     "output_type": "stream",
     "text": [
      "100%|██████████| 938/938 [00:09<00:00, 101.59it/s]\n"
     ]
    },
    {
     "name": "stdout",
     "output_type": "stream",
     "text": [
      "Epoch 2 of 10: Loss=5.3759\n",
      "Epoch 2 of 10: accuracy=0.8673\n"
     ]
    },
    {
     "name": "stderr",
     "output_type": "stream",
     "text": [
      "100%|██████████| 157/157 [00:01<00:00, 107.65it/s]\n"
     ]
    },
    {
     "name": "stdout",
     "output_type": "stream",
     "text": [
      "Epoch 2 of 10: Val Loss=5.3033\n",
      "Epoch 2 of 10: Val Accuracy=0.9396\n"
     ]
    },
    {
     "name": "stderr",
     "output_type": "stream",
     "text": [
      "100%|██████████| 938/938 [00:11<00:00, 78.58it/s]\n"
     ]
    },
    {
     "name": "stdout",
     "output_type": "stream",
     "text": [
      "Epoch 3 of 10: Loss=5.2886\n",
      "Epoch 3 of 10: accuracy=0.9540\n"
     ]
    },
    {
     "name": "stderr",
     "output_type": "stream",
     "text": [
      "100%|██████████| 157/157 [00:01<00:00, 148.54it/s]\n"
     ]
    },
    {
     "name": "stdout",
     "output_type": "stream",
     "text": [
      "Epoch 3 of 10: Val Loss=5.2946\n",
      "Epoch 3 of 10: Val Accuracy=0.9486\n"
     ]
    },
    {
     "name": "stderr",
     "output_type": "stream",
     "text": [
      "100%|██████████| 938/938 [00:09<00:00, 97.95it/s] \n"
     ]
    },
    {
     "name": "stdout",
     "output_type": "stream",
     "text": [
      "Epoch 4 of 10: Loss=5.2803\n",
      "Epoch 4 of 10: accuracy=0.9621\n"
     ]
    },
    {
     "name": "stderr",
     "output_type": "stream",
     "text": [
      "100%|██████████| 157/157 [00:01<00:00, 153.10it/s]\n"
     ]
    },
    {
     "name": "stdout",
     "output_type": "stream",
     "text": [
      "Epoch 4 of 10: Val Loss=5.2840\n",
      "Epoch 4 of 10: Val Accuracy=0.9583\n"
     ]
    },
    {
     "name": "stderr",
     "output_type": "stream",
     "text": [
      "100%|██████████| 938/938 [00:10<00:00, 88.47it/s]\n"
     ]
    },
    {
     "name": "stdout",
     "output_type": "stream",
     "text": [
      "Epoch 5 of 10: Loss=5.2736\n",
      "Epoch 5 of 10: accuracy=0.9688\n"
     ]
    },
    {
     "name": "stderr",
     "output_type": "stream",
     "text": [
      "100%|██████████| 157/157 [00:01<00:00, 128.00it/s]\n"
     ]
    },
    {
     "name": "stdout",
     "output_type": "stream",
     "text": [
      "Epoch 5 of 10: Val Loss=5.2748\n",
      "Epoch 5 of 10: Val Accuracy=0.9675\n"
     ]
    },
    {
     "name": "stderr",
     "output_type": "stream",
     "text": [
      "100%|██████████| 938/938 [00:11<00:00, 84.47it/s]\n"
     ]
    },
    {
     "name": "stdout",
     "output_type": "stream",
     "text": [
      "Epoch 6 of 10: Loss=5.2714\n",
      "Epoch 6 of 10: accuracy=0.9706\n"
     ]
    },
    {
     "name": "stderr",
     "output_type": "stream",
     "text": [
      "100%|██████████| 157/157 [00:01<00:00, 139.51it/s]\n"
     ]
    },
    {
     "name": "stdout",
     "output_type": "stream",
     "text": [
      "Epoch 6 of 10: Val Loss=5.2735\n",
      "Epoch 6 of 10: Val Accuracy=0.9680\n"
     ]
    },
    {
     "name": "stderr",
     "output_type": "stream",
     "text": [
      "100%|██████████| 938/938 [00:11<00:00, 83.97it/s]\n"
     ]
    },
    {
     "name": "stdout",
     "output_type": "stream",
     "text": [
      "Epoch 7 of 10: Loss=5.2694\n",
      "Epoch 7 of 10: accuracy=0.9725\n"
     ]
    },
    {
     "name": "stderr",
     "output_type": "stream",
     "text": [
      "100%|██████████| 157/157 [00:01<00:00, 129.49it/s]\n"
     ]
    },
    {
     "name": "stdout",
     "output_type": "stream",
     "text": [
      "Epoch 7 of 10: Val Loss=5.2730\n",
      "Epoch 7 of 10: Val Accuracy=0.9694\n"
     ]
    },
    {
     "name": "stderr",
     "output_type": "stream",
     "text": [
      "100%|██████████| 938/938 [00:12<00:00, 76.41it/s]\n"
     ]
    },
    {
     "name": "stdout",
     "output_type": "stream",
     "text": [
      "Epoch 8 of 10: Loss=5.2674\n",
      "Epoch 8 of 10: accuracy=0.9747\n"
     ]
    },
    {
     "name": "stderr",
     "output_type": "stream",
     "text": [
      "100%|██████████| 157/157 [00:01<00:00, 125.61it/s]\n"
     ]
    },
    {
     "name": "stdout",
     "output_type": "stream",
     "text": [
      "Epoch 8 of 10: Val Loss=5.2730\n",
      "Epoch 8 of 10: Val Accuracy=0.9685\n"
     ]
    },
    {
     "name": "stderr",
     "output_type": "stream",
     "text": [
      "100%|██████████| 938/938 [00:11<00:00, 83.22it/s]\n"
     ]
    },
    {
     "name": "stdout",
     "output_type": "stream",
     "text": [
      "Epoch 9 of 10: Loss=5.2661\n",
      "Epoch 9 of 10: accuracy=0.9758\n"
     ]
    },
    {
     "name": "stderr",
     "output_type": "stream",
     "text": [
      "100%|██████████| 157/157 [00:01<00:00, 149.45it/s]\n"
     ]
    },
    {
     "name": "stdout",
     "output_type": "stream",
     "text": [
      "Epoch 9 of 10: Val Loss=5.2734\n",
      "Epoch 9 of 10: Val Accuracy=0.9680\n"
     ]
    },
    {
     "name": "stderr",
     "output_type": "stream",
     "text": [
      "100%|██████████| 938/938 [00:10<00:00, 88.90it/s]\n"
     ]
    },
    {
     "name": "stdout",
     "output_type": "stream",
     "text": [
      "Epoch 10 of 10: Loss=5.2645\n",
      "Epoch 10 of 10: accuracy=0.9774\n"
     ]
    },
    {
     "name": "stderr",
     "output_type": "stream",
     "text": [
      "100%|██████████| 157/157 [00:01<00:00, 149.95it/s]"
     ]
    },
    {
     "name": "stdout",
     "output_type": "stream",
     "text": [
      "Epoch 10 of 10: Val Loss=5.2696\n",
      "Epoch 10 of 10: Val Accuracy=0.9721\n"
     ]
    },
    {
     "name": "stderr",
     "output_type": "stream",
     "text": [
      "\n"
     ]
    }
   ],
   "source": [
    "train_loss,train_accuracy,val_loss,val_acc = train(model,criteria,optimizer,train_dataloader,val_dataloader,epoch,device)"
   ]
  },
  {
   "cell_type": "code",
   "execution_count": 16,
   "metadata": {},
   "outputs": [
    {
     "data": {
      "text/plain": [
       "10"
      ]
     },
     "execution_count": 16,
     "metadata": {},
     "output_type": "execute_result"
    }
   ],
   "source": [
    "len(train_accuracy)"
   ]
  },
  {
   "cell_type": "code",
   "execution_count": 17,
   "metadata": {},
   "outputs": [
    {
     "data": {
      "image/png": "[encoded data removed]",
      "text/plain": [
       "<Figure size 1200x600 with 2 Axes>"
      ]
     },
     "metadata": {},
     "output_type": "display_data"
    }
   ],
   "source": [
    "import matplotlib.pyplot as plt\n",
    "\n",
    "# Assuming the train function is already defined and executed\n",
    "\n",
    "plt.figure(figsize=(12, 6))\n",
    "plt.subplot(1, 2, 1)\n",
    "plt.plot(range(1, epoch + 1), train_loss, label='Training Loss')\n",
    "plt.plot(range(1, epoch + 1), val_loss, label='Validation Loss')\n",
    "plt.xlabel('Epochs')\n",
    "plt.ylabel('Loss')\n",
    "plt.title('Training and Validation Loss')\n",
    "plt.legend()\n",
    "# Plot the training and validation accuracy\n",
    "plt.subplot(1, 2, 2)\n",
    "plt.plot(range(1, epoch + 1), train_accuracy, label='Training Accuracy')\n",
    "plt.plot(range(1, epoch + 1), val_acc, label='Validation Accuracy')\n",
    "plt.xlabel('Epochs')\n",
    "plt.ylabel('Accuracy')\n",
    "plt.title('Training and Validation Accuracy')\n",
    "plt.legend()\n",
    "# Display the plots\n",
    "plt.tight_layout()\n",
    "plt.show()\n",
    "\n"
   ]
  },
  {
   "cell_type": "code",
   "execution_count": 15,
   "metadata": {},
   "outputs": [
    {
     "name": "stdout",
     "output_type": "stream",
     "text": [
      "Looking in indexes: https://download.pytorch.org/whl/cu121\n",
      "Requirement already satisfied: torch in c:\\users\\sshak\\appdata\\local\\programs\\python\\python312\\lib\\site-packages (2.3.1+cu121)\n",
      "Requirement already satisfied: torchvision in c:\\users\\sshak\\appdata\\local\\programs\\python\\python312\\lib\\site-packages (0.18.1)\n",
      "Requirement already satisfied: torchaudio in c:\\users\\sshak\\appdata\\local\\programs\\python\\python312\\lib\\site-packages (2.3.1+cu121)\n",
      "Requirement already satisfied: filelock in c:\\users\\sshak\\appdata\\local\\programs\\python\\python312\\lib\\site-packages (from torch) (3.15.4)\n",
      "Requirement already satisfied: typing-extensions>=4.8.0 in c:\\users\\sshak\\appdata\\local\\programs\\python\\python312\\lib\\site-packages (from torch) (4.12.2)\n",
      "Requirement already satisfied: sympy in c:\\users\\sshak\\appdata\\local\\programs\\python\\python312\\lib\\site-packages (from torch) (1.13.0)\n",
      "Requirement already satisfied: networkx in c:\\users\\sshak\\appdata\\local\\programs\\python\\python312\\lib\\site-packages (from torch) (3.3)\n",
      "Requirement already satisfied: jinja2 in c:\\users\\sshak\\appdata\\local\\programs\\python\\python312\\lib\\site-packages (from torch) (3.1.4)\n",
      "Requirement already satisfied: fsspec in c:\\users\\sshak\\appdata\\local\\programs\\python\\python312\\lib\\site-packages (from torch) (2024.6.1)\n",
      "Requirement already satisfied: mkl<=2021.4.0,>=2021.1.1 in c:\\users\\sshak\\appdata\\local\\programs\\python\\python312\\lib\\site-packages (from torch) (2021.4.0)\n",
      "Requirement already satisfied: numpy in c:\\users\\sshak\\appdata\\local\\programs\\python\\python312\\lib\\site-packages (from torchvision) (1.26.4)\n",
      "Requirement already satisfied: pillow!=8.3.*,>=5.3.0 in c:\\users\\sshak\\appdata\\local\\programs\\python\\python312\\lib\\site-packages (from torchvision) (10.3.0)\n",
      "Requirement already satisfied: intel-openmp==2021.* in c:\\users\\sshak\\appdata\\local\\programs\\python\\python312\\lib\\site-packages (from mkl<=2021.4.0,>=2021.1.1->torch) (2021.4.0)\n",
      "Requirement already satisfied: tbb==2021.* in c:\\users\\sshak\\appdata\\local\\programs\\python\\python312\\lib\\site-packages (from mkl<=2021.4.0,>=2021.1.1->torch) (2021.13.0)\n",
      "Requirement already satisfied: MarkupSafe>=2.0 in c:\\users\\sshak\\appdata\\local\\programs\\python\\python312\\lib\\site-packages (from jinja2->torch) (2.1.5)\n",
      "Requirement already satisfied: mpmath<1.4,>=1.1.0 in c:\\users\\sshak\\appdata\\local\\programs\\python\\python312\\lib\\site-packages (from sympy->torch) (1.3.0)\n"
     ]
    }
   ],
   "source": [
    "!pip3 install torch torchvision torchaudio --index-url https://download.pytorch.org/whl/cu121\n"
   ]
  },
  {
   "cell_type": "code",
   "execution_count": null,
   "metadata": {},
   "outputs": [],
   "source": []
  }
 ],
 "metadata": {
  "kernelspec": {
   "display_name": "class",
   "language": "python",
   "name": "python3"
  },
  "language_info": {
   "codemirror_mode": {
    "name": "ipython",
    "version": 3
   },
   "file_extension": ".py",
   "mimetype": "text/x-python",
   "name": "python",
   "nbconvert_exporter": "python",
   "pygments_lexer": "ipython3",
   "version": "3.12.3"
  }
 },
 "nbformat": 4,
 "nbformat_minor": 2
}
