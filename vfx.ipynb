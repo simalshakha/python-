{
 "cells": [
  {
   "cell_type": "code",
   "execution_count": 9,
   "metadata": {},
   "outputs": [
    {
     "name": "stdout",
     "output_type": "stream",
     "text": [
      "(2160, 3840, 3) (980, 1981, 3)\n",
      "(2160, 3840, 3) (980, 1981, 3)\n",
      "(2160, 3840, 3) (980, 1981, 3)\n",
      "(2160, 3840, 3) (980, 1981, 3)\n",
      "(2160, 3840, 3) (980, 1981, 3)\n",
      "(2160, 3840, 3) (980, 1981, 3)\n",
      "(2160, 3840, 3) (980, 1981, 3)\n",
      "(2160, 3840, 3) (980, 1981, 3)\n",
      "(2160, 3840, 3) (980, 1981, 3)\n",
      "(2160, 3840, 3) (980, 1981, 3)\n",
      "(2160, 3840, 3) (980, 1981, 3)\n",
      "(2160, 3840, 3) (980, 1981, 3)\n",
      "(2160, 3840, 3) (980, 1981, 3)\n",
      "(2160, 3840, 3) (980, 1981, 3)\n",
      "(2160, 3840, 3) (980, 1981, 3)\n",
      "(2160, 3840, 3) (980, 1981, 3)\n",
      "(2160, 3840, 3) (980, 1981, 3)\n",
      "(2160, 3840, 3) (980, 1981, 3)\n",
      "(2160, 3840, 3) (980, 1981, 3)\n",
      "(2160, 3840, 3) (980, 1981, 3)\n",
      "(2160, 3840, 3) (980, 1981, 3)\n",
      "(2160, 3840, 3) (980, 1981, 3)\n",
      "(2160, 3840, 3) (980, 1981, 3)\n",
      "(2160, 3840, 3) (980, 1981, 3)\n",
      "(2160, 3840, 3) (980, 1981, 3)\n",
      "(2160, 3840, 3) (980, 1981, 3)\n",
      "(2160, 3840, 3) (980, 1981, 3)\n",
      "(2160, 3840, 3) (980, 1981, 3)\n",
      "(2160, 3840, 3) (980, 1981, 3)\n",
      "(2160, 3840, 3) (980, 1981, 3)\n",
      "(2160, 3840, 3) (980, 1981, 3)\n",
      "(2160, 3840, 3) (980, 1981, 3)\n"
     ]
    }
   ],
   "source": [
    "import os \n",
    "import numpy as np\n",
    "import cv2\n",
    "\n",
    "green_rgb = np.array([[[56, 255, 10]]], dtype=np.uint8)\n",
    "green_hsv = cv2.cvtColor(green_rgb, cv2.COLOR_RGB2HSV)\n",
    "lower_range = green_hsv[0][0][0] - 10, 100, 100\n",
    "upper_range = green_hsv[0][0][0] + 10, 255, 255\n",
    "\n",
    "\n",
    "girl=cv2.VideoCapture(r'C:\\Users\\sshak\\Downloads\\girl.mp4')\n",
    "\n",
    "board=cv2.imread(r'C:\\Users\\sshak\\Downloads\\board.jpg')\n",
    "\n",
    "while True:\n",
    "    ret,frame=girl.read()\n",
    "    if ret== True:\n",
    "        print(frame.shape,board.shape)\n",
    "        frame= cv2.resize(frame, (1981, 980))\n",
    "        \n",
    "    \n",
    "        girlhsv= cv2.cvtColor(frame, cv2.COLOR_BGR2HSV)\n",
    "        mask = cv2.inRange(girlhsv, np.array(lower_range), np.array(upper_range))\n",
    "        inv_mask = 255-mask\n",
    "        girl_masked = cv2.bitwise_and(frame, cv2.cvtColor(inv_mask, cv2.COLOR_GRAY2BGR))\n",
    "        back_masked = cv2.bitwise_and(board, board, mask=mask)\n",
    "        result= cv2.bitwise_or(girl_masked,back_masked)\n",
    "        cv2.imshow('girl',result)\n",
    "    if cv2.waitKey(1) & 0xFF == ord('q'):\n",
    "        break\n",
    "girl.release()\n",
    "cv2.destroyAllWindows()"
   ]
  },
  {
   "cell_type": "code",
   "execution_count": null,
   "metadata": {},
   "outputs": [],
   "source": []
  }
 ],
 "metadata": {
  "kernelspec": {
   "display_name": "Python 3",
   "language": "python",
   "name": "python3"
  },
  "language_info": {
   "codemirror_mode": {
    "name": "ipython",
    "version": 3
   },
   "file_extension": ".py",
   "mimetype": "text/x-python",
   "name": "python",
   "nbconvert_exporter": "python",
   "pygments_lexer": "ipython3",
   "version": "3.12.3"
  }
 },
 "nbformat": 4,
 "nbformat_minor": 2
}
