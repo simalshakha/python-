{
 "cells": [
  {
   "cell_type": "code",
   "execution_count": 6,
   "metadata": {},
   "outputs": [],
   "source": [
    "import cv2\n",
    "import numpy as np\n",
    "\n",
    "def degrade_image(image, sigma, scale, noise_std, jpeg_quality):\n",
    "    # Step 1: Apply Gaussian blur\n",
    "    blurred = cv2.GaussianBlur(image, (0, 0), sigma)\n",
    "    \n",
    "    # Step 2: Downsample the image\n",
    "    height, width = blurred.shape[:2]\n",
    "    downsampled = cv2.resize(blurred, (width // scale, height // scale), interpolation=cv2.INTER_LINEAR)\n",
    "    \n",
    "    # Step 3: Add Gaussian noise\n",
    "    noise = np.random.normal(0, noise_std, downsampled.shape).astype(np.float32)\n",
    "    noisy = cv2.add(downsampled.astype(np.float32), noise).clip(0, 255).astype(np.uint8)\n",
    "    \n",
    "    # Step 4: JPEG compression\n",
    "    encode_param = [int(cv2.IMWRITE_JPEG_QUALITY), jpeg_quality]\n",
    "    _, encoded_image = cv2.imencode('.jpg', noisy, encode_param)\n",
    "    degraded_image = cv2.imdecode(encoded_image, 1)\n",
    "    \n",
    "    \n",
    "    return degraded_image\n",
    "\n",
    "# Load an example image\n",
    "image = cv2.imread(r'C:\\Users\\sshak\\OneDrive\\Desktop\\codes\\deeplearning\\1.png')\n",
    "\n",
    "# Set parameters\n",
    "sigma = np.random.uniform(0.2, 10)\n",
    "scale = np.random.randint(1, 8)\n",
    "noise_std = np.random.uniform(0, 15)\n",
    "jpeg_quality = np.random.randint(60, 100)\n",
    "\n",
    "# Apply the degradation model\n",
    "degraded_image = degrade_image(image, sigma, scale, noise_std, jpeg_quality)\n",
    "\n",
    "# Save and display the degraded image\n",
    "cv2.imwrite('degraded_image.jpg', degraded_image)\n",
    "cv2.imshow('Degraded Image', degraded_image)\n",
    "cv2.waitKey(0)\n",
    "cv2.destroyAllWindows()\n"
   ]
  },
  {
   "cell_type": "code",
   "execution_count": null,
   "metadata": {},
   "outputs": [],
   "source": []
  }
 ],
 "metadata": {
  "kernelspec": {
   "display_name": "Python 3",
   "language": "python",
   "name": "python3"
  },
  "language_info": {
   "codemirror_mode": {
    "name": "ipython",
    "version": 3
   },
   "file_extension": ".py",
   "mimetype": "text/x-python",
   "name": "python",
   "nbconvert_exporter": "python",
   "pygments_lexer": "ipython3",
   "version": "3.12.3"
  }
 },
 "nbformat": 4,
 "nbformat_minor": 2
}
